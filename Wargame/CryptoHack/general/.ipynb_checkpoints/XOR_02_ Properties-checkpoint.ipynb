{
 "cells": [
  {
   "cell_type": "code",
   "execution_count": 13,
   "metadata": {},
   "outputs": [],
   "source": [
    "key1 = 'a6c8b6733c9b22de7bc0253266a3867df55acde8635e19c73313'\n",
    "key2_3 = 'c1545756687e7573db23aa1c3452a098b71a7fbf0fddddde5fc1'"
   ]
  },
  {
   "cell_type": "code",
   "execution_count": 14,
   "metadata": {},
   "outputs": [
    {
     "name": "stdout",
     "output_type": "stream",
     "text": [
      "['a', '6', 'c', '8', 'b', '6', '7', '3', '3', 'c', '9', 'b', '2', '2', 'd', 'e', '7', 'b', 'c', '0', '2', '5', '3', '2', '6', '6', 'a', '3', '8', '6', '7', 'd', 'f', '5', '5', 'a', 'c', 'd', 'e', '8', '6', '3', '5', 'e', '1', '9', 'c', '7', '3', '3', '1', '3']\n",
      "['c', '1', '5', '4', '5', '7', '5', '6', '6', '8', '7', 'e', '7', '5', '7', '3', 'd', 'b', '2', '3', 'a', 'a', '1', 'c', '3', '4', '5', '2', 'a', '0', '9', '8', 'b', '7', '1', 'a', '7', 'f', 'b', 'f', '0', 'f', 'd', 'd', 'd', 'd', 'd', 'e', '5', 'f', 'c', '1']\n"
     ]
    }
   ],
   "source": [
    "list1 = [c for c in key1]\n",
    "list2 = [c for c in key2_3]\n",
    "print(list1)\n",
    "print(list2)"
   ]
  },
  {
   "cell_type": "code",
   "execution_count": 15,
   "metadata": {},
   "outputs": [
    {
     "name": "stdout",
     "output_type": "stream",
     "text": [
      "[10, 6, 12, 8, 11, 6, 7, 3, 3, 12, 9, 11, 2, 2, 13, 14, 7, 11, 12, 0, 2, 5, 3, 2, 6, 6, 10, 3, 8, 6, 7, 13, 15, 5, 5, 10, 12, 13, 14, 8, 6, 3, 5, 14, 1, 9, 12, 7, 3, 3, 1, 3]\n",
      "[12, 1, 5, 4, 5, 7, 5, 6, 6, 8, 7, 14, 7, 5, 7, 3, 13, 11, 2, 3, 10, 10, 1, 12, 3, 4, 5, 2, 10, 0, 9, 8, 11, 7, 1, 10, 7, 15, 11, 15, 0, 15, 13, 13, 13, 13, 13, 14, 5, 15, 12, 1]\n"
     ]
    }
   ],
   "source": [
    "for i in range(len(list1)):\n",
    "    list1[i] = int('0x'+list1[i], 16)\n",
    "    list2[i] = int('0x'+list2[i], 16)\n",
    "    \n",
    "print(list1)\n",
    "print(list2)"
   ]
  },
  {
   "cell_type": "code",
   "execution_count": 26,
   "metadata": {},
   "outputs": [
    {
     "name": "stdout",
     "output_type": "stream",
     "text": [
      "['0b1010', '0b110', '0b1100', '0b1000', '0b1011', '0b110', '0b111', '0b11', '0b11', '0b1100', '0b1001', '0b1011', '0b10', '0b10', '0b1101', '0b1110', '0b111', '0b1011', '0b1100', '0b0', '0b10', '0b101', '0b11', '0b10', '0b110', '0b110', '0b1010', '0b11', '0b1000', '0b110', '0b111', '0b1101', '0b1111', '0b101', '0b101', '0b1010', '0b1100', '0b1101', '0b1110', '0b1000', '0b110', '0b11', '0b101', '0b1110', '0b1', '0b1001', '0b1100', '0b111', '0b11', '0b11', '0b1', '0b11']\n",
      "['0b1100', '0b1', '0b101', '0b100', '0b101', '0b111', '0b101', '0b110', '0b110', '0b1000', '0b111', '0b1110', '0b111', '0b101', '0b111', '0b11', '0b1101', '0b1011', '0b10', '0b11', '0b1010', '0b1010', '0b1', '0b1100', '0b11', '0b100', '0b101', '0b10', '0b1010', '0b0', '0b1001', '0b1000', '0b1011', '0b111', '0b1', '0b1010', '0b111', '0b1111', '0b1011', '0b1111', '0b0', '0b1111', '0b1101', '0b1101', '0b1101', '0b1101', '0b1101', '0b1110', '0b101', '0b1111', '0b1100', '0b1']\n"
     ]
    }
   ],
   "source": [
    "bin_list1 = [bin(int(num)) for num in list1]\n",
    "bin_list2 = [bin(int(num)) for num in list2]\n",
    "print(bin_list1)\n",
    "print(bin_list2)"
   ]
  },
  {
   "cell_type": "code",
   "execution_count": 84,
   "metadata": {},
   "outputs": [],
   "source": [
    "ans = []\n",
    "for i in range(len(bin_list1)):\n",
    "    value = int(bin_list1[i], 2) ^ int(bin_list2[i], 2)\n",
    "    ans.append(bin(value))"
   ]
  },
  {
   "cell_type": "code",
   "execution_count": 85,
   "metadata": {},
   "outputs": [
    {
     "name": "stdout",
     "output_type": "stream",
     "text": [
      "['0b110', '0b111', '0b1001', '0b1100', '0b1110', '0b1', '0b10', '0b101', '0b101', '0b100', '0b1110', '0b101', '0b101', '0b111', '0b1010', '0b1101', '0b1010', '0b0', '0b1110', '0b11', '0b1000', '0b1111', '0b10', '0b1110', '0b101', '0b10', '0b1111', '0b1', '0b10', '0b110', '0b1110', '0b101', '0b100', '0b10', '0b100', '0b0', '0b1011', '0b10', '0b101', '0b111', '0b110', '0b1100', '0b1000', '0b11', '0b1100', '0b100', '0b1', '0b1001', '0b110', '0b1100', '0b1101', '0b10']\n"
     ]
    }
   ],
   "source": [
    "print(ans)"
   ]
  },
  {
   "cell_type": "code",
   "execution_count": 86,
   "metadata": {},
   "outputs": [
    {
     "name": "stdout",
     "output_type": "stream",
     "text": [
      "[0, 4, 14, 14, 9, 8, 5, 5, 2, 0, 8, 10, 2, 12, 13, 5, 9, 0, 9, 1, 13, 0, 4, 7, 6, 7, 10, 14, 4, 7, 9, 6, 3, 1, 7, 0, 13, 1, 6, 6, 0, 13, 15, 7, 15, 5, 6, 15, 5, 15, 10, 15]\n",
      "['0b0', '0b100', '0b1110', '0b1110', '0b1001', '0b1000', '0b101', '0b101', '0b10', '0b0', '0b1000', '0b1010', '0b10', '0b1100', '0b1101', '0b101', '0b1001', '0b0', '0b1001', '0b1', '0b1101', '0b0', '0b100', '0b111', '0b110', '0b111', '0b1010', '0b1110', '0b100', '0b111', '0b1001', '0b110', '0b11', '0b1', '0b111', '0b0', '0b1101', '0b1', '0b110', '0b110', '0b0', '0b1101', '0b1111', '0b111', '0b1111', '0b101', '0b110', '0b1111', '0b101', '0b1111', '0b1010', '0b1111']\n"
     ]
    }
   ],
   "source": [
    "allnum = '04ee9855208a2cd59091d04767ae47963170d1660df7f56f5faf'\n",
    "list3 = [int('0x'+c, 16) for c in allnum]\n",
    "print(list3)\n",
    "bin_list3 = [bin(int(num)) for num in list3]\n",
    "print(bin_list3)"
   ]
  },
  {
   "cell_type": "code",
   "execution_count": 87,
   "metadata": {},
   "outputs": [
    {
     "data": {
      "text/plain": [
       "'0b100'"
      ]
     },
     "execution_count": 87,
     "metadata": {},
     "output_type": "execute_result"
    }
   ],
   "source": [
    "bin(int(bin_list3[1], 2))"
   ]
  },
  {
   "cell_type": "code",
   "execution_count": 88,
   "metadata": {},
   "outputs": [
    {
     "data": {
      "text/plain": [
       "4"
      ]
     },
     "execution_count": 88,
     "metadata": {},
     "output_type": "execute_result"
    }
   ],
   "source": [
    "int(bin_list3[1], 2)"
   ]
  },
  {
   "cell_type": "code",
   "execution_count": 90,
   "metadata": {},
   "outputs": [
    {
     "data": {
      "text/plain": [
       "'0b111'"
      ]
     },
     "execution_count": 90,
     "metadata": {},
     "output_type": "execute_result"
    }
   ],
   "source": [
    "bin(int(ans[1],2))"
   ]
  },
  {
   "cell_type": "code",
   "execution_count": 98,
   "metadata": {},
   "outputs": [
    {
     "name": "stdout",
     "output_type": "stream",
     "text": [
      "0b0 0b110\n",
      "6\n",
      "0b110\n",
      "\u0006\n",
      "0x6\n",
      "0b100 0b111\n",
      "3\n",
      "0b11\n",
      "\u0003\n",
      "0x3\n",
      "0b1110 0b1001\n",
      "7\n",
      "0b111\n",
      "\u0007\n",
      "0x7\n",
      "0b1110 0b1100\n",
      "2\n",
      "0b10\n",
      "\u0002\n",
      "0x2\n",
      "0b1001 0b1110\n",
      "7\n",
      "0b111\n",
      "\u0007\n",
      "0x7\n",
      "0b1000 0b1\n",
      "9\n",
      "0b1001\n",
      "\t\n",
      "0x9\n",
      "0b101 0b10\n",
      "7\n",
      "0b111\n",
      "\u0007\n",
      "0x7\n",
      "0b101 0b101\n",
      "0\n",
      "0b0\n",
      "\u0000\n",
      "0x0\n",
      "0b10 0b101\n",
      "7\n",
      "0b111\n",
      "\u0007\n",
      "0x7\n",
      "0b0 0b100\n",
      "4\n",
      "0b100\n",
      "\u0004\n",
      "0x4\n",
      "0b1000 0b1110\n",
      "6\n",
      "0b110\n",
      "\u0006\n",
      "0x6\n",
      "0b1010 0b101\n",
      "15\n",
      "0b1111\n",
      "\u000f\n",
      "0xf\n",
      "0b10 0b101\n",
      "7\n",
      "0b111\n",
      "\u0007\n",
      "0x7\n",
      "0b1100 0b111\n",
      "11\n",
      "0b1011\n",
      "\u000b",
      "\n",
      "0xb\n",
      "0b1101 0b1010\n",
      "7\n",
      "0b111\n",
      "\u0007\n",
      "0x7\n",
      "0b101 0b1101\n",
      "8\n",
      "0b1000\n",
      "\b\n",
      "0x8\n",
      "0b1001 0b1010\n",
      "3\n",
      "0b11\n",
      "\u0003\n",
      "0x3\n",
      "0b0 0b0\n",
      "0\n",
      "0b0\n",
      "\u0000\n",
      "0x0\n",
      "0b1001 0b1110\n",
      "7\n",
      "0b111\n",
      "\u0007\n",
      "0x7\n",
      "0b1 0b11\n",
      "2\n",
      "0b10\n",
      "\u0002\n",
      "0x2\n",
      "0b1101 0b1000\n",
      "5\n",
      "0b101\n",
      "\u0005\n",
      "0x5\n",
      "0b0 0b1111\n",
      "15\n",
      "0b1111\n",
      "\u000f\n",
      "0xf\n",
      "0b100 0b10\n",
      "6\n",
      "0b110\n",
      "\u0006\n",
      "0x6\n",
      "0b111 0b1110\n",
      "9\n",
      "0b1001\n",
      "\t\n",
      "0x9\n",
      "0b110 0b101\n",
      "3\n",
      "0b11\n",
      "\u0003\n",
      "0x3\n",
      "0b111 0b10\n",
      "5\n",
      "0b101\n",
      "\u0005\n",
      "0x5\n",
      "0b1010 0b1111\n",
      "5\n",
      "0b101\n",
      "\u0005\n",
      "0x5\n",
      "0b1110 0b1\n",
      "15\n",
      "0b1111\n",
      "\u000f\n",
      "0xf\n",
      "0b100 0b10\n",
      "6\n",
      "0b110\n",
      "\u0006\n",
      "0x6\n",
      "0b111 0b110\n",
      "1\n",
      "0b1\n",
      "\u0001\n",
      "0x1\n",
      "0b1001 0b1110\n",
      "7\n",
      "0b111\n",
      "\u0007\n",
      "0x7\n",
      "0b110 0b101\n",
      "3\n",
      "0b11\n",
      "\u0003\n",
      "0x3\n",
      "0b11 0b100\n",
      "7\n",
      "0b111\n",
      "\u0007\n",
      "0x7\n",
      "0b1 0b10\n",
      "3\n",
      "0b11\n",
      "\u0003\n",
      "0x3\n",
      "0b111 0b100\n",
      "3\n",
      "0b11\n",
      "\u0003\n",
      "0x3\n",
      "0b0 0b0\n",
      "0\n",
      "0b0\n",
      "\u0000\n",
      "0x0\n",
      "0b1101 0b1011\n",
      "6\n",
      "0b110\n",
      "\u0006\n",
      "0x6\n",
      "0b1 0b10\n",
      "3\n",
      "0b11\n",
      "\u0003\n",
      "0x3\n",
      "0b110 0b101\n",
      "3\n",
      "0b11\n",
      "\u0003\n",
      "0x3\n",
      "0b110 0b111\n",
      "1\n",
      "0b1\n",
      "\u0001\n",
      "0x1\n",
      "0b0 0b110\n",
      "6\n",
      "0b110\n",
      "\u0006\n",
      "0x6\n",
      "0b1101 0b1100\n",
      "1\n",
      "0b1\n",
      "\u0001\n",
      "0x1\n",
      "0b1111 0b1000\n",
      "7\n",
      "0b111\n",
      "\u0007\n",
      "0x7\n",
      "0b111 0b11\n",
      "4\n",
      "0b100\n",
      "\u0004\n",
      "0x4\n",
      "0b1111 0b1100\n",
      "3\n",
      "0b11\n",
      "\u0003\n",
      "0x3\n",
      "0b101 0b100\n",
      "1\n",
      "0b1\n",
      "\u0001\n",
      "0x1\n",
      "0b110 0b1\n",
      "7\n",
      "0b111\n",
      "\u0007\n",
      "0x7\n",
      "0b1111 0b1001\n",
      "6\n",
      "0b110\n",
      "\u0006\n",
      "0x6\n",
      "0b101 0b110\n",
      "3\n",
      "0b11\n",
      "\u0003\n",
      "0x3\n",
      "0b1111 0b1100\n",
      "3\n",
      "0b11\n",
      "\u0003\n",
      "0x3\n",
      "0b1010 0b1101\n",
      "7\n",
      "0b111\n",
      "\u0007\n",
      "0x7\n",
      "0b1111 0b10\n",
      "13\n",
      "0b1101\n",
      "\r\n",
      "0xd\n"
     ]
    }
   ],
   "source": [
    "final_result = []\n",
    "for i in range(len(list3)):\n",
    "    print(bin(int(bin_list3[i], 2)), bin(int(ans[i], 2)))\n",
    "    value = int(bin_list3[i],2) ^int(ans[i],2)\n",
    "    print(value)\n",
    "    print(bin(value))\n",
    "    print(chr(value))\n",
    "    print(hex(value))\n",
    "    final_result.append(hex(value))"
   ]
  },
  {
   "cell_type": "code",
   "execution_count": 99,
   "metadata": {},
   "outputs": [
    {
     "name": "stdout",
     "output_type": "stream",
     "text": [
      "['0x6', '0x3', '0x7', '0x2', '0x7', '0x9', '0x7', '0x0', '0x7', '0x4', '0x6', '0xf', '0x7', '0xb', '0x7', '0x8', '0x3', '0x0', '0x7', '0x2', '0x5', '0xf', '0x6', '0x9', '0x3', '0x5', '0x5', '0xf', '0x6', '0x1', '0x7', '0x3', '0x7', '0x3', '0x3', '0x0', '0x6', '0x3', '0x3', '0x1', '0x6', '0x1', '0x7', '0x4', '0x3', '0x1', '0x7', '0x6', '0x3', '0x3', '0x7', '0xd']\n"
     ]
    }
   ],
   "source": [
    "print(final_result)"
   ]
  },
  {
   "cell_type": "code",
   "execution_count": 100,
   "metadata": {},
   "outputs": [],
   "source": [
    "answer=[]\n",
    "for ans in final_result:\n",
    "    answer.append(ans[2:])"
   ]
  },
  {
   "cell_type": "code",
   "execution_count": 107,
   "metadata": {},
   "outputs": [],
   "source": [
    "answer = \"\".join(answer)\n"
   ]
  },
  {
   "cell_type": "code",
   "execution_count": 109,
   "metadata": {},
   "outputs": [
    {
     "ename": "NameError",
     "evalue": "name 'decode' is not defined",
     "output_type": "error",
     "traceback": [
      "\u001b[0;31m---------------------------------------------------------------------------\u001b[0m",
      "\u001b[0;31mNameError\u001b[0m                                 Traceback (most recent call last)",
      "\u001b[0;32m<ipython-input-109-a78c09db3f20>\u001b[0m in \u001b[0;36m<module>\u001b[0;34m\u001b[0m\n\u001b[0;32m----> 1\u001b[0;31m \u001b[0mdecode\u001b[0m\u001b[0;34m(\u001b[0m\u001b[0manswer\u001b[0m\u001b[0;34m,\u001b[0m \u001b[0;34m'utf-8'\u001b[0m\u001b[0;34m)\u001b[0m\u001b[0;34m\u001b[0m\u001b[0;34m\u001b[0m\u001b[0m\n\u001b[0m",
      "\u001b[0;31mNameError\u001b[0m: name 'decode' is not defined"
     ]
    }
   ],
   "source": [
    "decode(answer, 'utf-8')"
   ]
  },
  {
   "cell_type": "code",
   "execution_count": 110,
   "metadata": {},
   "outputs": [
    {
     "data": {
      "text/plain": [
       "'63727970746f7b7830725f69355f61737330633161743176337d'"
      ]
     },
     "execution_count": 110,
     "metadata": {},
     "output_type": "execute_result"
    }
   ],
   "source": [
    "answer"
   ]
  },
  {
   "cell_type": "code",
   "execution_count": 114,
   "metadata": {},
   "outputs": [
    {
     "data": {
      "text/plain": [
       "'0x7d'"
      ]
     },
     "execution_count": 114,
     "metadata": {},
     "output_type": "execute_result"
    }
   ],
   "source": [
    "b'0x7d'.decode(\"utf-8\")"
   ]
  },
  {
   "cell_type": "code",
   "execution_count": null,
   "metadata": {},
   "outputs": [],
   "source": []
  },
  {
   "cell_type": "code",
   "execution_count": null,
   "metadata": {},
   "outputs": [],
   "source": []
  },
  {
   "cell_type": "code",
   "execution_count": 106,
   "metadata": {},
   "outputs": [
    {
     "data": {
      "text/plain": [
       "52"
      ]
     },
     "execution_count": 106,
     "metadata": {},
     "output_type": "execute_result"
    }
   ],
   "source": [
    "len(\"63727970746f7b7830725f69355f61737330633161743176337d\")"
   ]
  },
  {
   "cell_type": "code",
   "execution_count": 57,
   "metadata": {},
   "outputs": [
    {
     "name": "stdout",
     "output_type": "stream",
     "text": [
      "Requirement already satisfied: pwntools in /Users/hailey/miniconda3/lib/python3.8/site-packages (4.2.1)\n",
      "Requirement already satisfied: python-dateutil in /Users/hailey/miniconda3/lib/python3.8/site-packages (from pwntools) (2.8.1)\n",
      "Requirement already satisfied: sortedcontainers in /Users/hailey/miniconda3/lib/python3.8/site-packages (from pwntools) (2.2.2)\n",
      "Requirement already satisfied: pysocks in /Users/hailey/miniconda3/lib/python3.8/site-packages (from pwntools) (1.7.1)\n",
      "Requirement already satisfied: pip>=6.0.8 in /Users/hailey/miniconda3/lib/python3.8/site-packages (from pwntools) (20.2.2)\n",
      "Requirement already satisfied: psutil>=3.3.0 in /Users/hailey/miniconda3/lib/python3.8/site-packages (from pwntools) (5.7.2)\n",
      "Requirement already satisfied: pyserial>=2.7 in /Users/hailey/miniconda3/lib/python3.8/site-packages (from pwntools) (3.4)\n",
      "Requirement already satisfied: ropgadget>=5.3 in /Users/hailey/miniconda3/lib/python3.8/site-packages (from pwntools) (6.3)\n",
      "Requirement already satisfied: paramiko>=1.15.2 in /Users/hailey/miniconda3/lib/python3.8/site-packages (from pwntools) (2.7.2)\n",
      "Requirement already satisfied: pygments>=2.0 in /Users/hailey/miniconda3/lib/python3.8/site-packages (from pwntools) (2.6.1)\n",
      "Requirement already satisfied: unicorn<1.0.2rc4,>=1.0.2rc1 in /Users/hailey/miniconda3/lib/python3.8/site-packages (from pwntools) (1.0.2rc3)\n",
      "Requirement already satisfied: capstone>=3.0.5rc2 in /Users/hailey/miniconda3/lib/python3.8/site-packages (from pwntools) (4.0.2)\n",
      "Requirement already satisfied: requests>=2.0 in /Users/hailey/miniconda3/lib/python3.8/site-packages (from pwntools) (2.24.0)\n",
      "Requirement already satisfied: mako>=1.0.0 in /Users/hailey/miniconda3/lib/python3.8/site-packages (from pwntools) (1.1.3)\n",
      "Requirement already satisfied: six>=1.12.0 in /Users/hailey/miniconda3/lib/python3.8/site-packages (from pwntools) (1.15.0)\n",
      "Requirement already satisfied: pyelftools>=0.2.4 in /Users/hailey/miniconda3/lib/python3.8/site-packages (from pwntools) (0.26)\n",
      "Requirement already satisfied: packaging in /Users/hailey/miniconda3/lib/python3.8/site-packages (from pwntools) (20.4)\n",
      "Requirement already satisfied: intervaltree>=3.0 in /Users/hailey/miniconda3/lib/python3.8/site-packages (from pwntools) (3.1.0)\n",
      "Requirement already satisfied: bcrypt>=3.1.3 in /Users/hailey/miniconda3/lib/python3.8/site-packages (from paramiko>=1.15.2->pwntools) (3.2.0)\n",
      "Requirement already satisfied: cryptography>=2.5 in /Users/hailey/miniconda3/lib/python3.8/site-packages (from paramiko>=1.15.2->pwntools) (3.1)\n",
      "Requirement already satisfied: pynacl>=1.0.1 in /Users/hailey/miniconda3/lib/python3.8/site-packages (from paramiko>=1.15.2->pwntools) (1.4.0)\n",
      "Requirement already satisfied: certifi>=2017.4.17 in /Users/hailey/miniconda3/lib/python3.8/site-packages (from requests>=2.0->pwntools) (2020.6.20)\n",
      "Requirement already satisfied: urllib3!=1.25.0,!=1.25.1,<1.26,>=1.21.1 in /Users/hailey/miniconda3/lib/python3.8/site-packages (from requests>=2.0->pwntools) (1.25.10)\n",
      "Requirement already satisfied: idna<3,>=2.5 in /Users/hailey/miniconda3/lib/python3.8/site-packages (from requests>=2.0->pwntools) (2.10)\n",
      "Requirement already satisfied: chardet<4,>=3.0.2 in /Users/hailey/miniconda3/lib/python3.8/site-packages (from requests>=2.0->pwntools) (3.0.4)\n",
      "Requirement already satisfied: MarkupSafe>=0.9.2 in /Users/hailey/miniconda3/lib/python3.8/site-packages (from mako>=1.0.0->pwntools) (1.1.1)\n",
      "Requirement already satisfied: pyparsing>=2.0.2 in /Users/hailey/miniconda3/lib/python3.8/site-packages (from packaging->pwntools) (2.4.7)\n",
      "Requirement already satisfied: cffi>=1.1 in /Users/hailey/miniconda3/lib/python3.8/site-packages (from bcrypt>=3.1.3->paramiko>=1.15.2->pwntools) (1.14.2)\n",
      "Requirement already satisfied: pycparser in /Users/hailey/miniconda3/lib/python3.8/site-packages (from cffi>=1.1->bcrypt>=3.1.3->paramiko>=1.15.2->pwntools) (2.20)\n"
     ]
    }
   ],
   "source": [
    "!pip install pwntools"
   ]
  },
  {
   "cell_type": "code",
   "execution_count": 58,
   "metadata": {},
   "outputs": [
    {
     "ename": "UnsupportedOperation",
     "evalue": "fileno",
     "output_type": "error",
     "traceback": [
      "\u001b[0;31m---------------------------------------------------------------------------\u001b[0m",
      "\u001b[0;31mUnsupportedOperation\u001b[0m                      Traceback (most recent call last)",
      "\u001b[0;32m<ipython-input-58-308ef5371a41>\u001b[0m in \u001b[0;36m<module>\u001b[0;34m\u001b[0m\n\u001b[0;32m----> 1\u001b[0;31m \u001b[0;32mfrom\u001b[0m \u001b[0mpwn\u001b[0m \u001b[0;32mimport\u001b[0m \u001b[0;34m*\u001b[0m\u001b[0;34m\u001b[0m\u001b[0;34m\u001b[0m\u001b[0m\n\u001b[0m",
      "\u001b[0;32m~/miniconda3/lib/python3.8/site-packages/pwn/__init__.py\u001b[0m in \u001b[0;36m<module>\u001b[0;34m\u001b[0m\n\u001b[1;32m      2\u001b[0m \u001b[0;32mfrom\u001b[0m \u001b[0m__future__\u001b[0m \u001b[0;32mimport\u001b[0m \u001b[0mabsolute_import\u001b[0m\u001b[0;34m\u001b[0m\u001b[0;34m\u001b[0m\u001b[0m\n\u001b[1;32m      3\u001b[0m \u001b[0;34m\u001b[0m\u001b[0m\n\u001b[0;32m----> 4\u001b[0;31m \u001b[0;32mfrom\u001b[0m \u001b[0mpwn\u001b[0m\u001b[0;34m.\u001b[0m\u001b[0mtoplevel\u001b[0m \u001b[0;32mimport\u001b[0m \u001b[0;34m*\u001b[0m\u001b[0;34m\u001b[0m\u001b[0;34m\u001b[0m\u001b[0m\n\u001b[0m\u001b[1;32m      5\u001b[0m \u001b[0;34m\u001b[0m\u001b[0m\n\u001b[1;32m      6\u001b[0m \u001b[0mpwnlib\u001b[0m\u001b[0;34m.\u001b[0m\u001b[0margs\u001b[0m\u001b[0;34m.\u001b[0m\u001b[0minitialize\u001b[0m\u001b[0;34m(\u001b[0m\u001b[0;34m)\u001b[0m\u001b[0;34m\u001b[0m\u001b[0;34m\u001b[0m\u001b[0m\n",
      "\u001b[0;32m~/miniconda3/lib/python3.8/site-packages/pwn/toplevel.py\u001b[0m in \u001b[0;36m<module>\u001b[0;34m\u001b[0m\n\u001b[1;32m     18\u001b[0m \u001b[0;32mfrom\u001b[0m \u001b[0mpprint\u001b[0m \u001b[0;32mimport\u001b[0m \u001b[0mpprint\u001b[0m\u001b[0;34m\u001b[0m\u001b[0;34m\u001b[0m\u001b[0m\n\u001b[1;32m     19\u001b[0m \u001b[0;34m\u001b[0m\u001b[0m\n\u001b[0;32m---> 20\u001b[0;31m \u001b[0;32mimport\u001b[0m \u001b[0mpwnlib\u001b[0m\u001b[0;34m\u001b[0m\u001b[0;34m\u001b[0m\u001b[0m\n\u001b[0m\u001b[1;32m     21\u001b[0m \u001b[0;32mfrom\u001b[0m \u001b[0mpwnlib\u001b[0m \u001b[0;32mimport\u001b[0m \u001b[0;34m*\u001b[0m\u001b[0;34m\u001b[0m\u001b[0;34m\u001b[0m\u001b[0m\n\u001b[1;32m     22\u001b[0m \u001b[0;32mfrom\u001b[0m \u001b[0mpwnlib\u001b[0m\u001b[0;34m.\u001b[0m\u001b[0masm\u001b[0m \u001b[0;32mimport\u001b[0m \u001b[0;34m*\u001b[0m\u001b[0;34m\u001b[0m\u001b[0;34m\u001b[0m\u001b[0m\n",
      "\u001b[0;32m~/miniconda3/lib/python3.8/site-packages/pwnlib/__init__.py\u001b[0m in \u001b[0;36m<module>\u001b[0;34m\u001b[0m\n\u001b[1;32m     41\u001b[0m \u001b[0;34m\u001b[0m\u001b[0m\n\u001b[1;32m     42\u001b[0m \u001b[0;32mfor\u001b[0m \u001b[0mmodule\u001b[0m \u001b[0;32min\u001b[0m \u001b[0m__all__\u001b[0m\u001b[0;34m:\u001b[0m\u001b[0;34m\u001b[0m\u001b[0;34m\u001b[0m\u001b[0m\n\u001b[0;32m---> 43\u001b[0;31m     \u001b[0mimportlib\u001b[0m\u001b[0;34m.\u001b[0m\u001b[0mimport_module\u001b[0m\u001b[0;34m(\u001b[0m\u001b[0;34m'.%s'\u001b[0m \u001b[0;34m%\u001b[0m \u001b[0mmodule\u001b[0m\u001b[0;34m,\u001b[0m \u001b[0;34m'pwnlib'\u001b[0m\u001b[0;34m)\u001b[0m\u001b[0;34m\u001b[0m\u001b[0;34m\u001b[0m\u001b[0m\n\u001b[0m",
      "\u001b[0;32m~/miniconda3/lib/python3.8/importlib/__init__.py\u001b[0m in \u001b[0;36mimport_module\u001b[0;34m(name, package)\u001b[0m\n\u001b[1;32m    125\u001b[0m                 \u001b[0;32mbreak\u001b[0m\u001b[0;34m\u001b[0m\u001b[0;34m\u001b[0m\u001b[0m\n\u001b[1;32m    126\u001b[0m             \u001b[0mlevel\u001b[0m \u001b[0;34m+=\u001b[0m \u001b[0;36m1\u001b[0m\u001b[0;34m\u001b[0m\u001b[0;34m\u001b[0m\u001b[0m\n\u001b[0;32m--> 127\u001b[0;31m     \u001b[0;32mreturn\u001b[0m \u001b[0m_bootstrap\u001b[0m\u001b[0;34m.\u001b[0m\u001b[0m_gcd_import\u001b[0m\u001b[0;34m(\u001b[0m\u001b[0mname\u001b[0m\u001b[0;34m[\u001b[0m\u001b[0mlevel\u001b[0m\u001b[0;34m:\u001b[0m\u001b[0;34m]\u001b[0m\u001b[0;34m,\u001b[0m \u001b[0mpackage\u001b[0m\u001b[0;34m,\u001b[0m \u001b[0mlevel\u001b[0m\u001b[0;34m)\u001b[0m\u001b[0;34m\u001b[0m\u001b[0;34m\u001b[0m\u001b[0m\n\u001b[0m\u001b[1;32m    128\u001b[0m \u001b[0;34m\u001b[0m\u001b[0m\n\u001b[1;32m    129\u001b[0m \u001b[0;34m\u001b[0m\u001b[0m\n",
      "\u001b[0;32m~/miniconda3/lib/python3.8/site-packages/pwnlib/args.py\u001b[0m in \u001b[0;36m<module>\u001b[0;34m\u001b[0m\n\u001b[1;32m     60\u001b[0m \u001b[0;32mimport\u001b[0m \u001b[0msys\u001b[0m\u001b[0;34m\u001b[0m\u001b[0;34m\u001b[0m\u001b[0m\n\u001b[1;32m     61\u001b[0m \u001b[0;34m\u001b[0m\u001b[0m\n\u001b[0;32m---> 62\u001b[0;31m \u001b[0;32mfrom\u001b[0m \u001b[0mpwnlib\u001b[0m \u001b[0;32mimport\u001b[0m \u001b[0mterm\u001b[0m\u001b[0;34m\u001b[0m\u001b[0;34m\u001b[0m\u001b[0m\n\u001b[0m\u001b[1;32m     63\u001b[0m \u001b[0;32mfrom\u001b[0m \u001b[0mpwnlib\u001b[0m\u001b[0;34m.\u001b[0m\u001b[0mcontext\u001b[0m \u001b[0;32mimport\u001b[0m \u001b[0mcontext\u001b[0m\u001b[0;34m\u001b[0m\u001b[0;34m\u001b[0m\u001b[0m\n\u001b[1;32m     64\u001b[0m \u001b[0;34m\u001b[0m\u001b[0m\n",
      "\u001b[0;32m~/miniconda3/lib/python3.8/site-packages/pwnlib/term/__init__.py\u001b[0m in \u001b[0;36m<module>\u001b[0;34m\u001b[0m\n\u001b[1;32m      4\u001b[0m \u001b[0;32mimport\u001b[0m \u001b[0msys\u001b[0m\u001b[0;34m\u001b[0m\u001b[0;34m\u001b[0m\u001b[0m\n\u001b[1;32m      5\u001b[0m \u001b[0;34m\u001b[0m\u001b[0m\n\u001b[0;32m----> 6\u001b[0;31m \u001b[0;32mfrom\u001b[0m \u001b[0mpwnlib\u001b[0m\u001b[0;34m.\u001b[0m\u001b[0mterm\u001b[0m \u001b[0;32mimport\u001b[0m \u001b[0mcompleter\u001b[0m\u001b[0;34m\u001b[0m\u001b[0;34m\u001b[0m\u001b[0m\n\u001b[0m\u001b[1;32m      7\u001b[0m \u001b[0;32mfrom\u001b[0m \u001b[0mpwnlib\u001b[0m\u001b[0;34m.\u001b[0m\u001b[0mterm\u001b[0m \u001b[0;32mimport\u001b[0m \u001b[0mkey\u001b[0m\u001b[0;34m\u001b[0m\u001b[0;34m\u001b[0m\u001b[0m\n\u001b[1;32m      8\u001b[0m \u001b[0;32mfrom\u001b[0m \u001b[0mpwnlib\u001b[0m\u001b[0;34m.\u001b[0m\u001b[0mterm\u001b[0m \u001b[0;32mimport\u001b[0m \u001b[0mkeymap\u001b[0m\u001b[0;34m\u001b[0m\u001b[0;34m\u001b[0m\u001b[0m\n",
      "\u001b[0;32m~/miniconda3/lib/python3.8/site-packages/pwnlib/term/completer.py\u001b[0m in \u001b[0;36m<module>\u001b[0;34m\u001b[0m\n\u001b[1;32m      5\u001b[0m \u001b[0;32mimport\u001b[0m \u001b[0mre\u001b[0m\u001b[0;34m\u001b[0m\u001b[0;34m\u001b[0m\u001b[0m\n\u001b[1;32m      6\u001b[0m \u001b[0;34m\u001b[0m\u001b[0m\n\u001b[0;32m----> 7\u001b[0;31m \u001b[0;32mfrom\u001b[0m \u001b[0mpwnlib\u001b[0m\u001b[0;34m.\u001b[0m\u001b[0mterm\u001b[0m \u001b[0;32mimport\u001b[0m \u001b[0mreadline\u001b[0m\u001b[0;34m\u001b[0m\u001b[0;34m\u001b[0m\u001b[0m\n\u001b[0m\u001b[1;32m      8\u001b[0m \u001b[0;34m\u001b[0m\u001b[0m\n\u001b[1;32m      9\u001b[0m \u001b[0;34m\u001b[0m\u001b[0m\n",
      "\u001b[0;32m~/miniconda3/lib/python3.8/site-packages/pwnlib/term/readline.py\u001b[0m in \u001b[0;36m<module>\u001b[0;34m\u001b[0m\n\u001b[1;32m     11\u001b[0m \u001b[0;32mfrom\u001b[0m \u001b[0mpwnlib\u001b[0m\u001b[0;34m.\u001b[0m\u001b[0mterm\u001b[0m \u001b[0;32mimport\u001b[0m \u001b[0mkeymap\u001b[0m \u001b[0;32mas\u001b[0m \u001b[0mkm\u001b[0m\u001b[0;34m\u001b[0m\u001b[0;34m\u001b[0m\u001b[0m\n\u001b[1;32m     12\u001b[0m \u001b[0;32mfrom\u001b[0m \u001b[0mpwnlib\u001b[0m\u001b[0;34m.\u001b[0m\u001b[0mterm\u001b[0m \u001b[0;32mimport\u001b[0m \u001b[0mterm\u001b[0m\u001b[0;34m\u001b[0m\u001b[0;34m\u001b[0m\u001b[0m\n\u001b[0;32m---> 13\u001b[0;31m \u001b[0;32mfrom\u001b[0m \u001b[0mpwnlib\u001b[0m\u001b[0;34m.\u001b[0m\u001b[0mterm\u001b[0m \u001b[0;32mimport\u001b[0m \u001b[0mtext\u001b[0m\u001b[0;34m\u001b[0m\u001b[0;34m\u001b[0m\u001b[0m\n\u001b[0m\u001b[1;32m     14\u001b[0m \u001b[0;34m\u001b[0m\u001b[0m\n\u001b[1;32m     15\u001b[0m \u001b[0mcursor\u001b[0m \u001b[0;34m=\u001b[0m \u001b[0mtext\u001b[0m\u001b[0;34m.\u001b[0m\u001b[0mreverse\u001b[0m\u001b[0;34m\u001b[0m\u001b[0;34m\u001b[0m\u001b[0m\n",
      "\u001b[0;32m~/miniconda3/lib/python3.8/site-packages/pwnlib/term/text.py\u001b[0m in \u001b[0;36m<module>\u001b[0;34m\u001b[0m\n\u001b[1;32m    124\u001b[0m \u001b[0;34m\u001b[0m\u001b[0m\n\u001b[1;32m    125\u001b[0m \u001b[0mtether\u001b[0m \u001b[0;34m=\u001b[0m \u001b[0msys\u001b[0m\u001b[0;34m.\u001b[0m\u001b[0mmodules\u001b[0m\u001b[0;34m[\u001b[0m\u001b[0m__name__\u001b[0m\u001b[0;34m]\u001b[0m\u001b[0;34m\u001b[0m\u001b[0;34m\u001b[0m\u001b[0m\n\u001b[0;32m--> 126\u001b[0;31m \u001b[0msys\u001b[0m\u001b[0;34m.\u001b[0m\u001b[0mmodules\u001b[0m\u001b[0;34m[\u001b[0m\u001b[0m__name__\u001b[0m\u001b[0;34m]\u001b[0m \u001b[0;34m=\u001b[0m \u001b[0mModule\u001b[0m\u001b[0;34m(\u001b[0m\u001b[0;34m)\u001b[0m\u001b[0;34m\u001b[0m\u001b[0;34m\u001b[0m\u001b[0m\n\u001b[0m",
      "\u001b[0;32m~/miniconda3/lib/python3.8/site-packages/pwnlib/term/text.py\u001b[0m in \u001b[0;36m__init__\u001b[0;34m(self)\u001b[0m\n\u001b[1;32m     41\u001b[0m             \u001b[0;34m'white'\u001b[0m\u001b[0;34m:\u001b[0m \u001b[0;36m7\u001b[0m\u001b[0;34m,\u001b[0m\u001b[0;34m\u001b[0m\u001b[0;34m\u001b[0m\u001b[0m\n\u001b[1;32m     42\u001b[0m             }\n\u001b[0;32m---> 43\u001b[0;31m         \u001b[0mself\u001b[0m\u001b[0;34m.\u001b[0m\u001b[0m_reset\u001b[0m \u001b[0;34m=\u001b[0m \u001b[0mtermcap\u001b[0m\u001b[0;34m.\u001b[0m\u001b[0mget\u001b[0m\u001b[0;34m(\u001b[0m\u001b[0;34m'reset'\u001b[0m\u001b[0;34m)\u001b[0m\u001b[0;34m\u001b[0m\u001b[0;34m\u001b[0m\u001b[0m\n\u001b[0m\u001b[1;32m     44\u001b[0m         \u001b[0mself\u001b[0m\u001b[0;34m.\u001b[0m\u001b[0m_attributes\u001b[0m \u001b[0;34m=\u001b[0m \u001b[0;34m{\u001b[0m\u001b[0;34m}\u001b[0m\u001b[0;34m\u001b[0m\u001b[0;34m\u001b[0m\u001b[0m\n\u001b[1;32m     45\u001b[0m         for x, y in [('italic'   , 'sitm'),\n",
      "\u001b[0;32m~/miniconda3/lib/python3.8/site-packages/pwnlib/term/unix_termcap.py\u001b[0m in \u001b[0;36mget\u001b[0;34m(cap, *args, **kwargs)\u001b[0m\n\u001b[1;32m     23\u001b[0m \u001b[0;34m\u001b[0m\u001b[0m\n\u001b[1;32m     24\u001b[0m     \u001b[0;32mif\u001b[0m \u001b[0mcache\u001b[0m \u001b[0;32mis\u001b[0m \u001b[0;32mNone\u001b[0m\u001b[0;34m:\u001b[0m\u001b[0;34m\u001b[0m\u001b[0;34m\u001b[0m\u001b[0m\n\u001b[0;32m---> 25\u001b[0;31m         \u001b[0minit\u001b[0m\u001b[0;34m(\u001b[0m\u001b[0;34m)\u001b[0m\u001b[0;34m\u001b[0m\u001b[0;34m\u001b[0m\u001b[0m\n\u001b[0m\u001b[1;32m     26\u001b[0m     \u001b[0ms\u001b[0m \u001b[0;34m=\u001b[0m \u001b[0mcache\u001b[0m\u001b[0;34m.\u001b[0m\u001b[0mget\u001b[0m\u001b[0;34m(\u001b[0m\u001b[0mcap\u001b[0m\u001b[0;34m)\u001b[0m\u001b[0;34m\u001b[0m\u001b[0;34m\u001b[0m\u001b[0m\n\u001b[1;32m     27\u001b[0m     \u001b[0;32mif\u001b[0m \u001b[0;32mnot\u001b[0m \u001b[0ms\u001b[0m\u001b[0;34m:\u001b[0m\u001b[0;34m\u001b[0m\u001b[0;34m\u001b[0m\u001b[0m\n",
      "\u001b[0;32m~/miniconda3/lib/python3.8/site-packages/pwnlib/term/unix_termcap.py\u001b[0m in \u001b[0;36minit\u001b[0;34m()\u001b[0m\n\u001b[1;32m     49\u001b[0m         \u001b[0;31m# Fix for BPython\u001b[0m\u001b[0;34m\u001b[0m\u001b[0;34m\u001b[0m\u001b[0;34m\u001b[0m\u001b[0m\n\u001b[1;32m     50\u001b[0m         \u001b[0;32mtry\u001b[0m\u001b[0;34m:\u001b[0m\u001b[0;34m\u001b[0m\u001b[0;34m\u001b[0m\u001b[0m\n\u001b[0;32m---> 51\u001b[0;31m             \u001b[0mcurses\u001b[0m\u001b[0;34m.\u001b[0m\u001b[0msetupterm\u001b[0m\u001b[0;34m(\u001b[0m\u001b[0;34m)\u001b[0m\u001b[0;34m\u001b[0m\u001b[0;34m\u001b[0m\u001b[0m\n\u001b[0m\u001b[1;32m     52\u001b[0m         \u001b[0;32mexcept\u001b[0m \u001b[0mcurses\u001b[0m\u001b[0;34m.\u001b[0m\u001b[0merror\u001b[0m \u001b[0;32mas\u001b[0m \u001b[0me\u001b[0m\u001b[0;34m:\u001b[0m\u001b[0;34m\u001b[0m\u001b[0;34m\u001b[0m\u001b[0m\n\u001b[1;32m     53\u001b[0m             \u001b[0;32mimport\u001b[0m \u001b[0mtraceback\u001b[0m\u001b[0;34m\u001b[0m\u001b[0;34m\u001b[0m\u001b[0m\n",
      "\u001b[0;31mUnsupportedOperation\u001b[0m: fileno"
     ]
    }
   ],
   "source": [
    "from pwn import *"
   ]
  }
 ],
 "metadata": {
  "kernelspec": {
   "display_name": "Python 3",
   "language": "python",
   "name": "python3"
  },
  "language_info": {
   "codemirror_mode": {
    "name": "ipython",
    "version": 3
   },
   "file_extension": ".py",
   "mimetype": "text/x-python",
   "name": "python",
   "nbconvert_exporter": "python",
   "pygments_lexer": "ipython3",
   "version": "3.8.5"
  }
 },
 "nbformat": 4,
 "nbformat_minor": 4
}
