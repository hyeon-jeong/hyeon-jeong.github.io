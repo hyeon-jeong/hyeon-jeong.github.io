{
 "cells": [
  {
   "cell_type": "code",
   "execution_count": 6,
   "metadata": {},
   "outputs": [
    {
     "name": "stdout",
     "output_type": "stream",
     "text": [
      "['0b111', '0b11', '0b110', '0b10', '0b110', '0b1001', '0b110', '0b0', '0b110', '0b100', '0b111', '0b1111', '0b110', '0b1011', '0b10', '0b0', '0b110', '0b1000', '0b10', '0b1', '0b10', '0b0', '0b100', '0b1111', '0b10', '0b1', '0b10', '0b101', '0b100', '0b1111', '0b111', '0b1101', '0b110', '0b1001', '0b100', '0b1111', '0b111', '0b110', '0b10', '0b100', '0b110', '0b110', '0b10', '0b0', '0b110', '0b101', '0b110', '0b10', '0b10', '0b1', '0b10', '0b111', '0b10', '0b11', '0b100', '0b1111', '0b111', '0b10', '0b110', '0b1001', '0b10', '0b111', '0b111', '0b101', '0b110', '0b1101']\n"
     ]
    }
   ],
   "source": [
    "key = '73626960647f6b206821204f21254f7d694f7624662065622127234f726927756d'\n",
    "\n",
    "\n",
    "\n",
    "key = [bin(int(key[i], 16)) for i in range(len(key))]\n",
    "\n",
    "print(key)"
   ]
  },
  {
   "cell_type": "code",
   "execution_count": 7,
   "metadata": {},
   "outputs": [
    {
     "data": {
      "text/plain": [
       "66"
      ]
     },
     "execution_count": 7,
     "metadata": {},
     "output_type": "execute_result"
    }
   ],
   "source": [
    "len(key)"
   ]
  },
  {
   "cell_type": "code",
   "execution_count": 10,
   "metadata": {},
   "outputs": [
    {
     "name": "stdout",
     "output_type": "stream",
     "text": [
      "0b1110b11\n",
      "0b1100b10\n",
      "0b1100b1001\n",
      "0b1100b0\n",
      "0b1100b100\n",
      "0b1110b1111\n",
      "0b1100b1011\n",
      "0b100b0\n",
      "0b1100b1000\n",
      "0b100b1\n",
      "0b100b0\n",
      "0b1000b1111\n",
      "0b100b1\n",
      "0b100b101\n",
      "0b1000b1111\n",
      "0b1110b1101\n",
      "0b1100b1001\n",
      "0b1000b1111\n",
      "0b1110b110\n",
      "0b100b100\n",
      "0b1100b110\n",
      "0b100b0\n",
      "0b1100b101\n",
      "0b1100b10\n",
      "0b100b1\n",
      "0b100b111\n",
      "0b100b11\n",
      "0b1000b1111\n",
      "0b1110b10\n",
      "0b1100b1001\n",
      "0b100b111\n",
      "0b1110b101\n",
      "0b1100b1101\n"
     ]
    }
   ],
   "source": [
    "for i in range(len(key)):\n",
    "    if(i%2) == 0:\n",
    "        temp = key[i//2*2] + key[i//2*2 + 1]\n",
    "        print(temp)"
   ]
  }
 ],
 "metadata": {
  "kernelspec": {
   "display_name": "Python 3",
   "language": "python",
   "name": "python3"
  },
  "language_info": {
   "codemirror_mode": {
    "name": "ipython",
    "version": 3
   },
   "file_extension": ".py",
   "mimetype": "text/x-python",
   "name": "python",
   "nbconvert_exporter": "python",
   "pygments_lexer": "ipython3",
   "version": "3.8.5"
  }
 },
 "nbformat": 4,
 "nbformat_minor": 4
}
